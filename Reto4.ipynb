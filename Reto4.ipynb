{
  "nbformat": 4,
  "nbformat_minor": 0,
  "metadata": {
    "colab": {
      "provenance": [],
      "include_colab_link": true
    },
    "kernelspec": {
      "name": "python3",
      "display_name": "Python 3"
    },
    "language_info": {
      "name": "python"
    }
  },
  "cells": [
    {
      "cell_type": "markdown",
      "metadata": {
        "id": "view-in-github",
        "colab_type": "text"
      },
      "source": [
        "<a href=\"https://colab.research.google.com/github/dev-researcher/New-React-Test/blob/main/Reto4.ipynb\" target=\"_parent\"><img src=\"https://colab.research.google.com/assets/colab-badge.svg\" alt=\"Open In Colab\"/></a>"
      ]
    },
    {
      "cell_type": "markdown",
      "source": [
        "#Reto 4\n",
        "\n",
        "\n",
        "## Elena Portuguez\n",
        "## Josue Ramirez\n",
        "\n",
        " Programar en Python el algoritmo y probar con el ejemplo 1.18\n",
        "- Debe quedar claro el algoritmo con respecto al **Algoritmo**\n",
        "- Recibe de entrada: $A = (Q, \\Sigma, \\delta, Q_0, F)$\n",
        "- Genera una salida: $B = (\\mathcal{Q}, \\Sigma, \\Delta, q_0, \\mathcal{F})$ with $\\mathcal{L}(B) = \\mathcal{L}(A)$\n",
        "- Definir que estructura de datos utilizar para $\\mathcal{W}, \\mathcal{Q},Q^{'},Q^{''}, \\mathcal{F}$\n",
        "- Estructura de datos de $\\delta$ y $\\Delta$"
      ],
      "metadata": {
        "id": "52WY5ODsrE58"
      }
    },
    {
      "cell_type": "code",
      "source": [
        "from collections import deque\n",
        "\n",
        "class Automaton:\n",
        "    # Constructor de la clase Automaton.\n",
        "    def __init__(self, states, alphabet, transition_function, initial_state, final_states):\n",
        "        self.states = states  # Conjunto de estados del autómata.\n",
        "        self.alphabet = alphabet  # Alfabeto de entrada.\n",
        "        self.transition_function = transition_function  # Función de transición del autómata.\n",
        "        self.initial_state = initial_state  # Estado inicial del autómata.\n",
        "        self.final_states = final_states  # Conjunto de estados finales del autómata.\n",
        "\n",
        "def nfa_to_dfa(nfa):\n",
        "    # Conjunto para almacenar los estados del DFA.\n",
        "    dfa_states = set()\n",
        "    # Diccionario para la función de transición del DFA.\n",
        "    dfa_transitions = {}\n",
        "    # Conjunto para los estados finales del DFA.\n",
        "    dfa_final_states = set()\n",
        "\n",
        "    # El estado inicial del DFA es un frozenset que contiene el estado inicial del NFA.\n",
        "    initial_state = frozenset([nfa.initial_state])\n",
        "    # Se utiliza una cola para gestionar los estados a procesar.\n",
        "    queue = deque([initial_state])\n",
        "    dfa_states.add(initial_state)\n",
        "\n",
        "    # Procesar estados mientras haya elementos en la cola.\n",
        "    while queue:\n",
        "        current = queue.popleft()\n",
        "\n",
        "        # Explorar cada símbolo del alfabeto del NFA.\n",
        "        for symbol in nfa.alphabet:\n",
        "            # Generar el próximo estado del DFA para el símbolo actual.\n",
        "            next_state = frozenset(\n",
        "                state\n",
        "                for nfa_state in current\n",
        "                if symbol in nfa.transition_function.get(nfa_state, {})\n",
        "                for state in nfa.transition_function[nfa_state][symbol]\n",
        "            )\n",
        "\n",
        "            # Continuar solo si next_state no está vacío.\n",
        "            if not next_state:\n",
        "                continue\n",
        "\n",
        "            # Si el estado no ha sido visto anteriormente, agregar a dfa_states y a la cola.\n",
        "            if next_state not in dfa_states:\n",
        "                dfa_states.add(next_state)\n",
        "                queue.append(next_state)\n",
        "\n",
        "            # Asignar la transición en la función de transición del DFA.\n",
        "            dfa_transitions[(current, symbol)] = next_state\n",
        "\n",
        "            # Si el next_state contiene algún estado final del NFA, agregar a dfa_final_states.\n",
        "            if any(state in nfa.final_states for state in next_state):\n",
        "                dfa_final_states.add(next_state)\n",
        "\n",
        "    # Crear y retornar una nueva instancia de Automaton como DFA.\n",
        "    return Automaton(\n",
        "        states=dfa_states,\n",
        "        alphabet=nfa.alphabet,\n",
        "        transition_function=dfa_transitions,\n",
        "        initial_state=initial_state,\n",
        "        final_states=dfa_final_states\n",
        "    )\n",
        "\n",
        "# Definición de un NFA\n",
        "nfa = Automaton(\n",
        "    states={'1', '2', '3', '4'},\n",
        "    alphabet={'a', 'b'},\n",
        "    transition_function={\n",
        "        '1': {'a': {'1'}, 'b': {'1', '2'}},\n",
        "        '2': {'a': {'3'}},\n",
        "        '3': {'a': {'4'}, 'b': {'4'}},\n",
        "        '4': {}  # Estado final sin transiciones\n",
        "    },\n",
        "    initial_state='1',\n",
        "    final_states={'4'}\n",
        ")\n",
        "\n",
        "# Convertir el NFA a DFA\n",
        "dfa = nfa_to_dfa(nfa)\n",
        "\n",
        "# Mostrar los resultados del DFA\n",
        "print(\"DFA States:\", dfa.states)\n",
        "print(\"DFA Initial State:\", dfa.initial_state)\n",
        "print(\"DFA Final States:\", dfa.final_states)\n",
        "print(\"DFA Transition Function:\")\n",
        "for (state, symbol), next_state in dfa.transition_function.items():\n",
        "    print(f\"  δ({state}, {symbol}) -> {next_state}\")\n"
      ],
      "metadata": {
        "id": "hvFDyDf9rIlo",
        "colab": {
          "base_uri": "https://localhost:8080/"
        },
        "outputId": "48885b27-778c-4ccd-8d99-52a15c28cc16"
      },
      "execution_count": null,
      "outputs": [
        {
          "output_type": "stream",
          "name": "stdout",
          "text": [
            "DFA States: {frozenset({'1', '2'}), frozenset({'3', '1'}), frozenset({'4', '1', '2'}), frozenset({'4', '1'}), frozenset({'1'})}\n",
            "DFA Initial State: frozenset({'1'})\n",
            "DFA Final States: {frozenset({'4', '1'}), frozenset({'4', '1', '2'})}\n",
            "DFA Transition Function:\n",
            "  δ(frozenset({'1'}), a) -> frozenset({'1'})\n",
            "  δ(frozenset({'1'}), b) -> frozenset({'1', '2'})\n",
            "  δ(frozenset({'1', '2'}), a) -> frozenset({'3', '1'})\n",
            "  δ(frozenset({'1', '2'}), b) -> frozenset({'1', '2'})\n",
            "  δ(frozenset({'3', '1'}), a) -> frozenset({'4', '1'})\n",
            "  δ(frozenset({'3', '1'}), b) -> frozenset({'4', '1', '2'})\n",
            "  δ(frozenset({'4', '1'}), a) -> frozenset({'1'})\n",
            "  δ(frozenset({'4', '1'}), b) -> frozenset({'1', '2'})\n",
            "  δ(frozenset({'4', '1', '2'}), a) -> frozenset({'3', '1'})\n",
            "  δ(frozenset({'4', '1', '2'}), b) -> frozenset({'1', '2'})\n"
          ]
        }
      ]
    }
  ]
}